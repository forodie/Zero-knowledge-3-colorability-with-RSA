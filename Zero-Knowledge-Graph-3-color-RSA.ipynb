{
 "cells": [
  {
   "cell_type": "markdown",
   "id": "1cfede45",
   "metadata": {},
   "source": [
    "## Уткин Герман\n",
    "\n",
    "# Доказательство с нулевым разглашением на основе задачи о 3-х раскрашиваемом графе\n",
    "    (Zero knowledge 3-colorability with RSA)\n",
    "\n",
    "### ННГУ им. Н. И. Лобачевского\n",
    "    N. I. Lobachevsky State University of Nizhny Novgorod\n",
    "### Институт информационных технологий, математики и механики\n",
    "    Institute of information technology, mathematics and mechanics\n",
   ]
  },
  {
   "cell_type": "markdown",
   "id": "9226d238",
   "metadata": {},
   "source": [
    "## Теория\n",
    "Доказательство с нулевым разглашением с применением криптографического протокола RSA на основе задачи о 3-х раскрашиваемом графе. \n",
    "\n",
    "Пусть имеется граф $G=(V,E)$ и $\\chi(G)=3,$ где $V = \\{v_1,v_2,\\dots,v_k\\}$ и доказывающему известна раскраска графа (Таблица `T`). \n",
    "\n",
    "\n",
    "| $v_1$    | $v_2$    | $\\dots$ | $v_k$    |\n",
    "|----------|----------|---------|----------|\n",
    "| $c(v_1)$ | $c(v_2)$ | $\\dots$ | $c(v_k)$ |\n",
    "\n",
    "где $c(v_i) \\in \\{R,G,B\\}, i = \\overline{1,k}.$\n",
    "\n",
    "Верификатор (Verifier) в свою очередь знает только сам граф или матрицу смежности. Prover хочет доказать Verifier'y то, что знает правильную раскраску графа, не предъявляя саму раскраску.\n",
    "\n",
    "Протокол состоит в следующем:\n",
    "1. Prover выбирает случайную перестановку $\\pi$ из $\\{ R,G,B \\}$ и формирует новую таблицу $\\widetilde{T}$ раскраски графа:  \n",
    "\n",
    "| $v_1$         | $v_2$         | $\\dots$ | $v_k$         |\n",
    "|---------------|---------------|---------|---------------|\n",
    "| $\\pi(c(v_1))$ | $\\pi(c(v_2))$ | $\\dots$ | $\\pi(c(v_k))$ |\n",
    "  \n",
    "  Для каждой вершины $v \\in V$ Prover генерирует большое случайное число $r_v$ и преобразовывает по следующему правилу ($r_v := r_v'$):\n",
    "\n",
    "- Если вершина $v$ в таблице $\\widetilde{T}$ окрашена в $R,$ то меняем последние два бита на $00.$\n",
    "- Если вершина $v$ в таблице $\\widetilde{T}$ окрашена в $G,$ то меняем последние два бита на $01.$\n",
    "- Если вершина $v$ в таблице $\\widetilde{T}$ окрашена в $B,$ то меняем последние два бита на $10.$\n",
    "\n",
    "    Для каждой вершины $v \\in V$ Prover формирует параметры для алгоритма RSA:\n",
    "\t\n",
    "    Генерирует простые числа $p_v$ и $q_v,$ вычисляет $n_v = p_v \\cdot q_v$ и функцию Эйлера $\\varphi(n_v)=(p_v-1)(q_v-1).$ \n",
    "\n",
    "    Затем выбирает такое $e_v,$ что $1\\le e_v \\le \\varphi(n_v)\\text{ и }\\gcd(e_v,\\varphi(n_v))=1.$\n",
    "    \n",
    "    Вычисляет число $d_v,$ мультипликативно обратное к числу $e_v$ по модулю $\\varphi(n_v),$ то есть удовлетворяющее сравнению $d_v \\cdot e_v \\equiv 1 \\,\\mathrm{mod}\\,\\varphi(n_v).$\n",
    "\n",
    "    Вычисляет число $m_v=r_v^{e_v} \\,\\mathrm{mod}\\,n_v.$ Затем формирует и посылает следующую таблицу Verifier'y:\n",
    "\n",
    "| $v_1$         | $v_2$         | $\\dots$ | $v_k$         |\n",
    "|---------------|---------------|---------|---------------|\n",
    "| $n_1,e_1,m_1$ | $n_2,e_2,m_2$ | $\\dots$ | $n_k,e_k,m_k$ |\n",
    "\n",
    "2. Verifier случайно выбирает ребро $(u^*,u')\\in E$ и сообщает его Prover'y.\n",
    "3. В ответ Prover присылает Verifier'y числа $d_{u^*}$ и $d_{u'},$ которые соответствуют вершинам выбранного ребра. После чего абонент вычисляет:\n",
    "$$\\widetilde{m}_{u^*}=m_{u^*}^{d_{u^*}} \\,\\mathrm{mod}\\,n_{u^*} = r_{u^*} \\text{ и } \\widetilde{m}_{u'} = m_{u'}^{d_{u'}} \\,\\mathrm{mod}\\,n_{u'} = r_{u'},$$\n",
    "затем сравнивает два последних бита в этих числах. При правильной раскраске два последних бита должны быть различны. Если они получились одинаковыми, значит Prover попытался обмануть (не знает раскраски). Если различны, то все шаги повторяются $\\mu\\cdot|E|$ раз, где $\\mu>0$ некоторый параметр, характеризующий точность.\n",
    "\n",
    "\n",
    "Пусть $p$ вероятность того, что доказывающий не обманул проверяющего и знает правильную раскраску в 3 цвета. Тогда количествово шагов $k$, которое необходимо для достижения такой границы достоверности удовлетворяет неравенству: $$1-\\left(1-\\frac{1}{|E|}\\right)^k > p.$$\n",
    "\n",
    "Решив его, найдём, что $$\\frac{\\ln(1-p)}{\\ln\\left(1-\\frac{1}{|E|}\\right)} < k.$$\n",
    "\n",
    "Используя неравенство $\\left(1-\\frac{1}{x}\\right)^{a\\cdot x} < e^{-a}$  и взяв $k=[\\mu\\cdot|E|]$ (квадратные скобки это целая часть от числа) получаем, что вероятность достоверности: $$1-\\left(1-\\frac{1}{E}\\right)^{\\mu \\cdot |E|} > 1-e^{-\\mu}.$$\n",
    "\n",
    "Если хотим, чтобы $1-e^{-\\mu} > p,$ то коэффициент $\\mu$ надо взять: $$\\ln\\left(\\frac{1}{1-p}\\right) < \\mu.$$\n",
    "\n",
    "Например, чтобы $p = 0.90, $ то $\\mu$ нужно взять равной примерно $2.31.$ Соответственно число $k = [2.31\\cdot|E|].$"
   ]
  },
  {
   "cell_type": "markdown",
   "id": "7dcff82c",
   "metadata": {},
   "source": [
    "# Описание алгоритма"
   ]
  },
  {
   "cell_type": "markdown",
   "id": "224b9904",
   "metadata": {},
   "source": [
    "Подключим нужные библиотеки для работы с массивами, графикой, графами, RSA и прочим."
   ]
  },
  {
   "cell_type": "code",
   "execution_count": 1,
   "id": "855e8ef3",
   "metadata": {},
   "outputs": [],
   "source": [
    "import numpy as np\n",
    "import matplotlib.pyplot as plt\n",
    "import networkx as nx\n",
    "import rsa\n",
    "import random"
   ]
  },
  {
   "cell_type": "markdown",
   "id": "82930a97",
   "metadata": {},
   "source": [
    "Для примера создадим граф Петерсена и раскрасим его жадным алгоритом. \n",
    "\n",
    "Для наглядности выведем массив вершин, рёбер и словарь с жадной раскраской вершин."
   ]
  },
  {
   "cell_type": "code",
   "execution_count": 2,
   "id": "2da4c74f",
   "metadata": {},
   "outputs": [
    {
     "name": "stdout",
     "output_type": "stream",
     "text": [
      "Nodes:  [0, 1, 2, 3, 4, 5, 6, 7, 8, 9]\n",
      "Edges:  [(0, 1), (0, 4), (0, 5), (1, 2), (1, 6), (2, 3), (2, 7), (3, 4), (3, 8), (4, 9), (5, 7), (5, 8), (6, 8), (6, 9), (7, 9)]\n",
      "Color (largest_first):  {0: 0, 1: 1, 2: 0, 3: 1, 4: 2, 5: 1, 6: 0, 7: 2, 8: 2, 9: 1}\n"
     ]
    },
    {
     "data": {
      "image/png": "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\n",
      "text/plain": [
       "<Figure size 432x288 with 1 Axes>"
      ]
     },
     "metadata": {},
     "output_type": "display_data"
    }
   ],
   "source": [
    "G = nx.petersen_graph()\n",
    "colors = nx.coloring.greedy_color(G, strategy=\"largest_first\")\n",
    "#colors = {0: 0, 1: 1, 2: 0, 3: 1, 4: 2, 5: 1, 6: 0, 7: 2, 8: 2, 9: 0}\n",
    "\n",
    "print(\"Nodes: \", G.nodes())\n",
    "print(\"Edges: \", G.edges())\n",
    "print(\"Color (largest_first): \", colors)\n",
    "\n",
    "someColors = ['red','green','blue']\n",
    "\n",
    "def draw_coloring(G,coloring,colors):\n",
    "    fig = plt.figure()\n",
    "    n_colors = len(colors)\n",
    "\n",
    "    pos = nx.spring_layout(G)\n",
    "    for i in range(n_colors):\n",
    "        nx.draw_networkx_nodes(G,pos,[x for x in G.nodes() if coloring[x]==i],node_color=colors[i])\n",
    "    nx.draw_networkx_edges(G,pos,width=1.0,alpha=1)\n",
    "    nx.draw_networkx_labels(G, pos)\n",
    "    plt.axis('off')\n",
    "    return fig\n",
    "\n",
    "figure = draw_coloring(G, colors, someColors)"
   ]
  },
  {
   "cell_type": "markdown",
   "id": "ee265013",
   "metadata": {},
   "source": [
    "Для наглядности создадим словарь `T1`, который показывает нам раскраску уже не цифрами, а цветами.\n",
    "\n",
    "Затем перемешаем возьмем случайную перестановку из RGB, и создадим новый словарь `T2`."
   ]
  },
  {
   "cell_type": "code",
   "execution_count": 3,
   "id": "fc3b6c22",
   "metadata": {},
   "outputs": [],
   "source": [
    "def ColorsTable(coloring, colors):\n",
    "    permSomeColors = colors[:]\n",
    "    random.shuffle(permSomeColors)\n",
    "    coloringNew = coloring.copy()\n",
    "    \n",
    "    for item in coloringNew:\n",
    "        if coloringNew[item] == 0:\n",
    "            coloringNew[item] = 'red'\n",
    "        if coloringNew[item] == 1:\n",
    "            coloringNew[item] = 'green'\n",
    "        if coloringNew[item] == 2:\n",
    "            coloringNew[item] = 'blue'\n",
    "    return coloringNew\n",
    "\n",
    "def newColorsTable(coloring, colors):\n",
    "    permSomeColors = colors[:]\n",
    "    random.shuffle(permSomeColors)\n",
    "    coloringNew = coloring.copy()\n",
    "    \n",
    "    for item in coloringNew:\n",
    "        if coloringNew[item] == 0:\n",
    "            coloringNew[item] = permSomeColors[0]\n",
    "        if coloringNew[item] == 1:\n",
    "            coloringNew[item] = permSomeColors[1]\n",
    "        if coloringNew[item] == 2:\n",
    "            coloringNew[item] = permSomeColors[2]\n",
    "    return coloringNew    "
   ]
  },
  {
   "cell_type": "code",
   "execution_count": 4,
   "id": "45d368f3",
   "metadata": {},
   "outputs": [
    {
     "name": "stdout",
     "output_type": "stream",
     "text": [
      "(Prover) true color table: \n",
      " {0: 'red', 1: 'green', 2: 'red', 3: 'green', 4: 'blue', 5: 'green', 6: 'red', 7: 'blue', 8: 'blue', 9: 'green'}\n",
      "(Prover) changed colors table after permutation RGB: \n",
      " {0: 'green', 1: 'red', 2: 'green', 3: 'red', 4: 'blue', 5: 'red', 6: 'green', 7: 'blue', 8: 'blue', 9: 'red'}\n"
     ]
    }
   ],
   "source": [
    "T1 = ColorsTable(colors, someColors)\n",
    "T2 = newColorsTable(colors, someColors)\n",
    "print(\"(Prover) true color table: \\n\", T1)\n",
    "print(\"(Prover) changed colors table after permutation RGB: \\n\", T2)"
   ]
  },
  {
   "cell_type": "markdown",
   "id": "6353bbf9",
   "metadata": {},
   "source": [
    "Функция, которая меняет последние два бита в числе `r` согласно цвету `color`."
   ]
  },
  {
   "cell_type": "code",
   "execution_count": 5,
   "id": "1302420f",
   "metadata": {},
   "outputs": [],
   "source": [
    "def changeRnew(r, color):\n",
    "    if color == \"red\":\n",
    "        r = 4*(r//4) + 0\n",
    "    if color == \"green\":\n",
    "        r = 4*(r//4) + 1\n",
    "    if color == \"blue\":\n",
    "        r = 4*(r//4) + 2\n",
    "    return r;"
   ]
  },
  {
   "cell_type": "markdown",
   "id": "b45c094c",
   "metadata": {},
   "source": [
    "Функция генерации чисел `r` для каждой вершины графа."
   ]
  },
  {
   "cell_type": "code",
   "execution_count": 6,
   "id": "a90094d1",
   "metadata": {},
   "outputs": [],
   "source": [
    "def generateR(colors):\n",
    "    n = len(colors)\n",
    "    listR = []\n",
    "    listRnew = []\n",
    "    for i in range(n):\n",
    "        r = np.random.randint(10,500)\n",
    "        if colors[i] == \"red\":\n",
    "            listR.append(r)\n",
    "            listRnew.append(changeRnew(r,\"red\"))\n",
    "        if colors[i] == \"green\":\n",
    "            listR.append(r)\n",
    "            listRnew.append(changeRnew(r,\"green\"))   \n",
    "        if colors[i] == \"blue\":\n",
    "            listR.append(r)\n",
    "            listRnew.append(changeRnew(r,\"blue\"))\n",
    "    return listR, listRnew"
   ]
  },
  {
   "cell_type": "markdown",
   "id": "6cb92280",
   "metadata": {},
   "source": [
    "Выведем массив с числами `r` для каждой вершины и массив с преобразованными `r`, чтобы можно было убедиться в правильности подсчёта."
   ]
  },
  {
   "cell_type": "code",
   "execution_count": 7,
   "id": "84241fce",
   "metadata": {},
   "outputs": [
    {
     "name": "stdout",
     "output_type": "stream",
     "text": [
      "(prover) ListR:\n",
      " [248, 420, 427, 492, 284, 48, 434, 419, 114, 445]\n",
      "(prover) ListR new:\n",
      " [249, 420, 425, 492, 286, 48, 433, 418, 114, 444]\n"
     ]
    }
   ],
   "source": [
    "TablesR = generateR(T2)\n",
    "print(\"(prover) ListR:\\n\", TablesR[0])\n",
    "print(\"(prover) ListR new:\\n\",TablesR[1])"
   ]
  },
  {
   "cell_type": "markdown",
   "id": "e379e45a",
   "metadata": {},
   "source": [
    "Функции, соответственно, для генерации открытого и закрытого ключа для каждой вершины и для шифрования числа `r` с помощью открытого ключа."
   ]
  },
  {
   "cell_type": "code",
   "execution_count": 8,
   "id": "580d424e",
   "metadata": {},
   "outputs": [],
   "source": [
    "def generateKeysForNodes(n):\n",
    "    listkeys = []\n",
    "    for i in range(n):\n",
    "        (pubkey, privkey) = rsa.newkeys(512)\n",
    "        listkeys.append((pubkey, privkey))\n",
    "    return listkeys;\n",
    "\n",
    "def generateEncryptionMessagesForNodes(Tablesr,listkeys):\n",
    "    listmessages = []\n",
    "    for i in range(len(Tablesr)):\n",
    "        cryptoText = rsa.encrypt(str(Tablesr[i]).encode('utf8'),listkeys[i][0])\n",
    "        listmessages.append(cryptoText)\n",
    "    return listmessages"
   ]
  },
  {
   "cell_type": "markdown",
   "id": "919831cd",
   "metadata": {},
   "source": [
    "Формируем таблицу `S` для верификатора. В которой для каждой вершины находится открытый ключ и зашифрованное сообщение. "
   ]
  },
  {
   "cell_type": "code",
   "execution_count": 9,
   "id": "13502d41",
   "metadata": {},
   "outputs": [
    {
     "name": "stdout",
     "output_type": "stream",
     "text": [
      "(verifier) *Table S successfully formed.\n"
     ]
    }
   ],
   "source": [
    "listKeys = generateKeysForNodes(len(TablesR[1]))\n",
    "listEncryptionMessages = generateEncryptionMessagesForNodes(TablesR[1],listKeys)\n",
    "\n",
    "#listEncryptionMessages[i] - шифр-сообщение и listKeys[i][0] - открытый ключ для i-ой вершины \n",
    "print('(verifier) *Table S successfully formed.') "
   ]
  },
  {
   "cell_type": "markdown",
   "id": "561eb24e",
   "metadata": {},
   "source": [
    "Функция для выбора рандомного ребра из графа."
   ]
  },
  {
   "cell_type": "code",
   "execution_count": 10,
   "id": "baed2a9b",
   "metadata": {},
   "outputs": [],
   "source": [
    "def randomEdge(listEdge):\n",
    "    Edge = random.choice(listEdge)\n",
    "    return Edge;"
   ]
  },
  {
   "cell_type": "code",
   "execution_count": 11,
   "id": "8eef48e8",
   "metadata": {},
   "outputs": [
    {
     "name": "stdout",
     "output_type": "stream",
     "text": [
      "*The verifier chose the edge of the graph: (1, 6). The verifier sent it to the prover.\n"
     ]
    }
   ],
   "source": [
    "edgeVerifier = randomEdge(list(G.edges()))\n",
    "print(f'*The verifier chose the edge of the graph: {edgeVerifier}. The verifier sent it to the prover.')"
   ]
  },
  {
   "cell_type": "markdown",
   "id": "b15eaa34",
   "metadata": {},
   "source": [
    "Функция для расшифровки для чисел `r` для конкретного (выбранного) ребра."
   ]
  },
  {
   "cell_type": "code",
   "execution_count": 12,
   "id": "8cba59f3",
   "metadata": {},
   "outputs": [],
   "source": [
    "def decryptionMessagesForTheNodes(edge,encryptionMessages,listKeys):\n",
    "    listmessages = []\n",
    "    decryptoText = rsa.decrypt(encryptionMessages[edge[0]],listKeys[edge[0]][1])\n",
    "    listmessages.append(int(decryptoText.decode('utf8')))\n",
    "    decryptoText = rsa.decrypt(encryptionMessages[edge[1]],listKeys[edge[1]][1])\n",
    "    listmessages.append(int(decryptoText.decode('utf8')))\n",
    "    return listmessages"
   ]
  },
  {
   "cell_type": "code",
   "execution_count": 13,
   "id": "8bbc57ad",
   "metadata": {},
   "outputs": [
    {
     "name": "stdout",
     "output_type": "stream",
     "text": [
      "[420, 433]\n"
     ]
    }
   ],
   "source": [
    "listTrueMessagesForTheNodes = decryptionMessagesForTheNodes(edgeVerifier,listEncryptionMessages,listKeys)\n",
    "print(listTrueMessagesForTheNodes)"
   ]
  },
  {
   "cell_type": "markdown",
   "id": "f8ed3c99",
   "metadata": {},
   "source": [
    "Функция для проверки чисел, которые характеризуют правильность раскраски вершин в выбранном ребре."
   ]
  },
  {
   "cell_type": "code",
   "execution_count": 14,
   "id": "62573949",
   "metadata": {},
   "outputs": [],
   "source": [
    "def verifierTestColor(listR):\n",
    "    if ((listR[0] - listR[1])%4 != 0 ): #Если последние два бита в числе разные, то True.\n",
    "        return True\n",
    "    else: \n",
    "        return False"
   ]
  },
  {
   "cell_type": "code",
   "execution_count": 15,
   "id": "a3b00cb9",
   "metadata": {},
   "outputs": [
    {
     "name": "stdout",
     "output_type": "stream",
     "text": [
      "Check if the last two bits of numbers are different: [420, 433]. Answer: True!\n",
      "*The prover wasn't trying to trick you!\n"
     ]
    }
   ],
   "source": [
    "verifierTest = verifierTestColor(listTrueMessagesForTheNodes)\n",
    "print(f'Check if the last two bits of numbers are different: {listTrueMessagesForTheNodes}. Answer: {verifierTest}!')\n",
    "if (verifierTest == True):\n",
    "    print(\"*The prover wasn't trying to trick you!\")\n",
    "if (verifierTest == False):\n",
    "    print(\"*The prover was trying to trick you!!!\")"
   ]
  },
  {
   "cell_type": "markdown",
   "id": "0d1da6e3",
   "metadata": {},
   "source": [
    "Общая функция, характеризующая конфиденциальность при количестве итераций алгоритма."
   ]
  },
  {
   "cell_type": "code",
   "execution_count": 16,
   "id": "bbad37de",
   "metadata": {},
   "outputs": [],
   "source": [
    "def startProtocolZeroKnowledge(k):    \n",
    "    for j in range(k):\n",
    "        T1 = ColorsTable(colors, someColors)\n",
    "        T2 = newColorsTable(colors, someColors)\n",
    "        TablesR = generateR(T2)\n",
    "        listKeys = generateKeysForNodes(len(TablesR[1]))\n",
    "        listEncryptionMessages = generateEncryptionMessagesForNodes(TablesR[1],listKeys)\n",
    "        edgeVerifier = randomEdge(list(G.edges()))\n",
    "        #print(edgeVerifier)\n",
    "        listTrueMessagesForTheNodes = decryptionMessagesForTheNodes(edgeVerifier,listEncryptionMessages,listKeys)\n",
    "        verifierTest = verifierTestColor(listTrueMessagesForTheNodes)  \n",
    "        if (verifierTest == True):\n",
    "            confidence_ = 1 - np.power(1-1/len(G.edges()), k)\n",
    "        else:\n",
    "            confidence = 0\n",
    "            return False, confidence, j\n",
    "    return True, confidence_, j"
   ]
  },
  {
   "cell_type": "markdown",
   "id": "badf7134",
   "metadata": {},
   "source": [
    "Выведем результат аутентификации при `k` = 20. \n",
    "\n",
    "`Confidence[0]` характеризует достоверность (true, false), а `Confidence[1]` вероятность убежденности проверяющего в том, что доказывающий знает раскраску."
   ]
  },
  {
   "cell_type": "code",
   "execution_count": 17,
   "id": "a2c288ee",
   "metadata": {},
   "outputs": [
    {
     "name": "stdout",
     "output_type": "stream",
     "text": [
      "\n",
      "Результат аутентификации:\n",
      " Достоверно ли: True.\n",
      " Вероятность достоверности: 0.7483855767633295.\n",
      " Итерация: 20.\n"
     ]
    }
   ],
   "source": [
    "#print('Список рёбер, которые выбирает проверяющий: ')\n",
    "Confidence = startProtocolZeroKnowledge(20)\n",
    "print(f'\\nРезультат аутентификации:\\n Достоверно ли: {Confidence[0]}.\\n Вероятность достоверности: {Confidence[1]}.\\n Итерация: {Confidence[2] + 1}.')"
   ]
  }
 ],
 "metadata": {
  "kernelspec": {
   "display_name": "Python 3 (ipykernel)",
   "language": "python",
   "name": "python3"
  },
  "language_info": {
   "codemirror_mode": {
    "name": "ipython",
    "version": 3
   },
   "file_extension": ".py",
   "mimetype": "text/x-python",
   "name": "python",
   "nbconvert_exporter": "python",
   "pygments_lexer": "ipython3",
   "version": "3.9.7"
  }
 },
 "nbformat": 4,
 "nbformat_minor": 5
}
